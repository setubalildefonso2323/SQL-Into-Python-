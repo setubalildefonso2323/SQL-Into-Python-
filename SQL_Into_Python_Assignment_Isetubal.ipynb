{
 "cells": [
  {
   "cell_type": "markdown",
   "metadata": {},
   "source": [
    "#SQL_INTO_PYTHON_DRILL"
   ]
  },
  {
   "cell_type": "code",
   "execution_count": 1,
   "metadata": {},
   "outputs": [
    {
     "name": "stdout",
     "output_type": "stream",
     "text": [
      "Requirement already satisfied: sqlalchemy in c:\\users\\cholo\\anaconda3\\lib\\site-packages (1.3.9)\n",
      "Requirement already satisfied: psycopg2 in c:\\users\\cholo\\anaconda3\\lib\\site-packages (2.8.5)\n",
      "Requirement already satisfied: psycopg2-binary in c:\\users\\cholo\\anaconda3\\lib\\site-packages (2.8.5)\n"
     ]
    }
   ],
   "source": [
    "!pip install sqlalchemy\n",
    "!pip install psycopg2\n",
    "!pip install psycopg2-binary"
   ]
  },
  {
   "cell_type": "code",
   "execution_count": 3,
   "metadata": {},
   "outputs": [],
   "source": [
    "from sqlalchemy import create_engine\n",
    "\n",
    "postgres_user = 'dsbc_student'\n",
    "postgres_pw = '7*.8G9QH21'\n",
    "postgres_host = '142.93.121.174'\n",
    "postgres_port = '5432'\n",
    "postgres_db = 'dvdrentals'\n",
    "\n",
    "# use the credentials to start a connection\n",
    "engine = create_engine('postgresql://{}:{}@{}:{}/{}'.format(\n",
    "    postgres_user, postgres_pw, postgres_host, postgres_port, postgres_db))\n"
   ]
  },
  {
   "cell_type": "raw",
   "metadata": {},
   "source": [
    "# 1. How many movies are released for each rating?"
   ]
  },
  {
   "cell_type": "code",
   "execution_count": 4,
   "metadata": {},
   "outputs": [
    {
     "name": "stdout",
     "output_type": "stream",
     "text": [
      "(195, 'R')\n",
      "(210, 'NC-17')\n",
      "(194, 'PG')\n",
      "(223, 'PG-13')\n",
      "(178, 'G')\n"
     ]
    }
   ],
   "source": [
    "sql = '''\n",
    "SELECT COUNT(\n",
    "  title), rating \n",
    "FROM \n",
    "  film\n",
    "GROUP BY \n",
    "  rating'''\n",
    "\n",
    "\n",
    "movies_rating = engine.execute(sql)\n",
    "engine.dispose()\n",
    "rows = movies_rating.fetchall()\n",
    "for row in rows:\n",
    "  print(row)"
   ]
  },
  {
   "cell_type": "raw",
   "metadata": {},
   "source": [
    "2.  What is thye average rental duration fo reach rating"
   ]
  },
  {
   "cell_type": "code",
   "execution_count": 5,
   "metadata": {},
   "outputs": [
    {
     "name": "stdout",
     "output_type": "stream",
     "text": [
      "(Decimal('4.7743589743589744'), 'R')\n",
      "(Decimal('5.1428571428571429'), 'NC-17')\n",
      "(Decimal('5.0824742268041237'), 'PG')\n",
      "(Decimal('5.0538116591928251'), 'PG-13')\n",
      "(Decimal('4.8370786516853933'), 'G')\n"
     ]
    }
   ],
   "source": [
    "sql = '''\n",
    "SELECT AVG\n",
    "  (rental_duration) AS average_rental, rating\n",
    "FROM \n",
    "  film\n",
    "GROUP BY \n",
    "  rating'''\n",
    "\n",
    "\n",
    "rental_avg = engine.execute (sql)\n",
    "engine.dispose()\n",
    "row_average = rental_avg.fetchall()\n",
    "for row in row_average:\n",
    "  print(row)"
   ]
  },
  {
   "cell_type": "raw",
   "metadata": {},
   "source": [
    "3.  What is the mean movie length? Calculate this by defining a function?"
   ]
  },
  {
   "cell_type": "code",
   "execution_count": 9,
   "metadata": {},
   "outputs": [
    {
     "name": "stdout",
     "output_type": "stream",
     "text": [
      "The mean of the length is 115.272\n"
     ]
    }
   ],
   "source": [
    "sql = '''\n",
    "SELECT \n",
    "  length\n",
    "FROM \n",
    "  film\n",
    "'''\n",
    "\n",
    "\n",
    "length = engine.execute(sql)\n",
    "engine.dispose()\n",
    "movie_rows = length.fetchall()\n",
    "movie_rows = [x[0]for x in movie_rows]\n",
    "\n",
    "\n",
    "def mean(numbers):\n",
    "    total_sum = 0;\n",
    "    for n in numbers:\n",
    "        total_sum += n \n",
    "    count = len(numbers)\n",
    "    avg = total_sum / count\n",
    "    return avg\n",
    "\n",
    "print('The mean of the length is {}'.format(mean(movie_rows)))"
   ]
  },
  {
   "cell_type": "raw",
   "metadata": {},
   "source": [
    "4.  What is the median movie length? Calculate this byt defining a function?"
   ]
  },
  {
   "cell_type": "code",
   "execution_count": 7,
   "metadata": {},
   "outputs": [
    {
     "name": "stdout",
     "output_type": "stream",
     "text": [
      "The median of the length is 114.0\n"
     ]
    }
   ],
   "source": [
    "sql = '''\n",
    "SELECT \n",
    "  length\n",
    "FROM \n",
    "  film\n",
    "'''\n",
    "length = engine.execute(sql)\n",
    "engine.dispose()\n",
    "movie_rows = length.fetchall()\n",
    "movie_rows = [x[0] for x in movie_rows]\n",
    "\n",
    "\n",
    "import math\n",
    "\n",
    "def median(numbers):\n",
    "  numbers.sort()\n",
    "  count = len(numbers)\n",
    "  isEven = count % 2 == 0 \n",
    "  \n",
    "  if (isEven):\n",
    "    mid = math.floor( count / 2 )\n",
    "    a = numbers[mid - 1]\n",
    "    b = numbers[mid]\n",
    "    #print(\"a: \", a)\n",
    "    #print(\"b: \", b)\n",
    "    ans = (a + b) / 2\n",
    "  else:\n",
    "    ans = numbers[math.floor( count / 2 )]\n",
    " \n",
    "  return ans\n",
    "\n",
    "print('The median of the length is {}'.format(median(movie_rows)))\n"
   ]
  },
  {
   "cell_type": "raw",
   "metadata": {},
   "source": [
    "5.  Calculate the standard deviation of the movie lengths. Calculate this by defining a function."
   ]
  },
  {
   "cell_type": "code",
   "execution_count": 10,
   "metadata": {
    "scrolled": true
   },
   "outputs": [
    {
     "name": "stdout",
     "output_type": "stream",
     "text": [
      "The standard deviation of the length is 40.42633181855987\n"
     ]
    }
   ],
   "source": [
    "sql = '''\n",
    "SELECT \n",
    "  length\n",
    "FROM \n",
    "  film\n",
    "'''\n",
    "\n",
    "import math\n",
    "\n",
    "length = engine.execute(sql)\n",
    "engine.dispose()\n",
    "movie_rows = length.fetchall()\n",
    "movie_rows = [x[0]for x in movie_rows]\n",
    "\n",
    "\n",
    "def standard_deviation(numbers): \n",
    "  X_bar = mean(numbers)\n",
    "  N = len(numbers)\n",
    "  total_sum = 0\n",
    "\n",
    "  for X in numbers:\n",
    "    diff = X - X_bar\n",
    "    squared = math.pow(diff, 2)\n",
    "    total_sum += squared\n",
    "  sigma = math.sqrt(total_sum / (N - 1))  \n",
    "  return sigma\n",
    "\n",
    "print('The standard deviation of the length is {}'.format(standard_deviation(movie_rows)))"
   ]
  },
  {
   "cell_type": "code",
   "execution_count": null,
   "metadata": {},
   "outputs": [],
   "source": []
  }
 ],
 "metadata": {
  "kernelspec": {
   "display_name": "Python 3",
   "language": "python",
   "name": "python3"
  },
  "language_info": {
   "codemirror_mode": {
    "name": "ipython",
    "version": 3
   },
   "file_extension": ".py",
   "mimetype": "text/x-python",
   "name": "python",
   "nbconvert_exporter": "python",
   "pygments_lexer": "ipython3",
   "version": "3.7.4"
  }
 },
 "nbformat": 4,
 "nbformat_minor": 2
}
